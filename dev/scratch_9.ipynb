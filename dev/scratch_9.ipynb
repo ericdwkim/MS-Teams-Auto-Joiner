{
 "cells": [
  {
   "cell_type": "code",
   "execution_count": 22,
   "id": "initial_id",
   "metadata": {
    "collapsed": true,
    "ExecuteTime": {
     "end_time": "2023-12-17T00:26:27.447807Z",
     "start_time": "2023-12-17T00:26:27.445246Z"
    }
   },
   "outputs": [
    {
     "ename": "ImportError",
     "evalue": "cannot import name 'wait_and_find_ele_by_class' from 'autoJoin' (/Users/ekim/workspace/personal/MS-Teams-Auto-Joiner/autoJoin.py)",
     "output_type": "error",
     "traceback": [
      "\u001B[0;31m---------------------------------------------------------------------------\u001B[0m",
      "\u001B[0;31mImportError\u001B[0m                               Traceback (most recent call last)",
      "Cell \u001B[0;32mIn[22], line 11\u001B[0m\n\u001B[1;32m      9\u001B[0m \u001B[38;5;28;01mfrom\u001B[39;00m \u001B[38;5;21;01mtwilio\u001B[39;00m\u001B[38;5;21;01m.\u001B[39;00m\u001B[38;5;21;01mrest\u001B[39;00m \u001B[38;5;28;01mimport\u001B[39;00m Client\n\u001B[1;32m     10\u001B[0m \u001B[38;5;66;03m# from autoJoin import wait_and_find_ele_by_id\u001B[39;00m\n\u001B[0;32m---> 11\u001B[0m \u001B[38;5;28;01mfrom\u001B[39;00m \u001B[38;5;21;01mautoJoin\u001B[39;00m \u001B[38;5;28;01mimport\u001B[39;00m wait_and_find_ele_by_class\n",
      "\u001B[0;31mImportError\u001B[0m: cannot import name 'wait_and_find_ele_by_class' from 'autoJoin' (/Users/ekim/workspace/personal/MS-Teams-Auto-Joiner/autoJoin.py)"
     ]
    }
   ],
   "source": [
    "import sys\n",
    "from selenium import webdriver\n",
    "from selenium.webdriver.chrome.options import Options\n",
    "from selenium.webdriver.chrome.service import Service\n",
    "from webdriver_manager.chrome import ChromeDriverManager\n",
    "from time import sleep\n",
    "from datetime import datetime\n",
    "import json\n",
    "from twilio.rest import Client\n",
    "# from autoJoin import wait_and_find_ele_by_id\n",
    "from autoJoin import wait_and_find_ele_by_class\n"
   ]
  },
  {
   "cell_type": "code",
   "execution_count": 4,
   "outputs": [],
   "source": [
    "check = 2 # variable used for sending msg\n",
    "meeting_name = \"meeting_name\"\n",
    "try:\n",
    "    with open('/Users/ekim/workspace/personal/MS-Teams-Auto-Joiner/config.json', 'r') as f:\n",
    "        config = json.load(f)\n",
    "except:\n",
    "    print('config file not found. Exiting')\n",
    "    sys.exit(1)\n",
    "    \n",
    "client = Client(config['account_sid'], config['auth_token'])\n",
    "\n",
    "\n",
    "TEAMS_URL = 'https://teams.microsoft.com/_#/calendarv2'\n",
    "\n",
    "sleepDelay = 20  # increase if you have a slow internet connection\n",
    "timeOutDelay = 60  # increase if you have a slow internet connection\n",
    "\n",
    "curParticipants = 0\n",
    "minParticipants = 3\n",
    "\n"
   ],
   "metadata": {
    "collapsed": false,
    "ExecuteTime": {
     "end_time": "2023-12-17T00:01:16.408330Z",
     "start_time": "2023-12-17T00:01:16.401342Z"
    }
   },
   "id": "5ee5b3be2943ec6"
  },
  {
   "cell_type": "code",
   "execution_count": 5,
   "outputs": [
    {
     "name": "stdout",
     "output_type": "stream",
     "text": [
      "<Twilio AC2dd419074a1cdc8fe4e373ffe8430169>\n"
     ]
    }
   ],
   "source": [
    "print(client)"
   ],
   "metadata": {
    "collapsed": false,
    "ExecuteTime": {
     "end_time": "2023-12-17T00:01:18.559096Z",
     "start_time": "2023-12-17T00:01:18.553638Z"
    }
   },
   "id": "eb6fd16344e147b1"
  },
  {
   "cell_type": "code",
   "execution_count": 6,
   "outputs": [],
   "source": [
    "def get_driver_options():\n",
    "    opt = Options()\n",
    "    opt.add_experimental_option(\"debuggerAddress\", \"127.0.0.1:9222\")\n",
    "    # if 'headless' in config and config['headless']:\n",
    "    #     opt.add_argument(\"--headless\")\n",
    "    #     opt.add_argument(\"--window-size=1920,1080\")\n",
    "    # elif 'dev' in config and config['dev']:\n",
    "    #     opt.add_experimental_option(\"debuggerAddress\", \"127.0.0.1:9222\")\n",
    "    # opt.add_argument(\"--disable-infobars\")\n",
    "    # opt.add_argument(\"start-maximized\")\n",
    "    # opt.add_argument(\"--disable-extensions\")\n",
    "    # Pass the argument 1 to allow and 2 to block\n",
    "    # opt.add_experimental_option(\"prefs\", {\"profile.default_content_setting_values.media_stream_mic\": 1,\n",
    "    #                                     \"profile.default_content_setting_values.media_stream_camera\": 1,\n",
    "    #                                     \"profile.default_content_setting_values.notifications\": 1\n",
    "    #                                     })\n",
    "    return opt\n"
   ],
   "metadata": {
    "collapsed": false,
    "ExecuteTime": {
     "end_time": "2023-12-17T00:01:25.342363Z",
     "start_time": "2023-12-17T00:01:25.338526Z"
    }
   },
   "id": "c412f73f3bc2da36"
  },
  {
   "cell_type": "code",
   "execution_count": 7,
   "outputs": [
    {
     "name": "stdout",
     "output_type": "stream",
     "text": [
      "<selenium.webdriver.chrome.options.Options object at 0x7fa5e926d4e0>\n"
     ]
    }
   ],
   "source": [
    "opt = get_driver_options()\n",
    "print(opt)"
   ],
   "metadata": {
    "collapsed": false,
    "ExecuteTime": {
     "end_time": "2023-12-17T00:01:26.804416Z",
     "start_time": "2023-12-17T00:01:26.798944Z"
    }
   },
   "id": "61b09bfddd325882"
  },
  {
   "cell_type": "code",
   "execution_count": 15,
   "outputs": [],
   "source": [
    "browser = webdriver.Chrome(service=Service(executable_path='/opt/homebrew/bin/chromedriver'), options=opt)\n",
    "browser.get(TEAMS_URL)\n",
    "# wait_and_find_ele_by_id('i0116').send_keys(config['username'])  # enter username\n",
    "\n"
   ],
   "metadata": {
    "collapsed": false,
    "ExecuteTime": {
     "end_time": "2023-12-17T00:10:47.450554Z",
     "start_time": "2023-12-17T00:10:46.096041Z"
    }
   },
   "id": "f57d2623499ea70f"
  },
  {
   "cell_type": "code",
   "execution_count": 16,
   "outputs": [
    {
     "ename": "NameError",
     "evalue": "name 'wait_and_find_ele_by_class' is not defined",
     "output_type": "error",
     "traceback": [
      "\u001B[0;31m---------------------------------------------------------------------------\u001B[0m",
      "\u001B[0;31mNameError\u001B[0m                                 Traceback (most recent call last)",
      "Cell \u001B[0;32mIn[16], line 1\u001B[0m\n\u001B[0;32m----> 1\u001B[0m try_again_btns \u001B[38;5;241m=\u001B[39m \u001B[43mwait_and_find_ele_by_class\u001B[49m(class_id\u001B[38;5;241m=\u001B[39m\u001B[38;5;124m\"\u001B[39m\u001B[38;5;124m//*[@class=\u001B[39m\u001B[38;5;124m'\u001B[39m\u001B[38;5;124mts-btn ts-btn-fluent ts-btn-fluent-primary oops-button\u001B[39m\u001B[38;5;124m'\u001B[39m\u001B[38;5;124m]\u001B[39m\u001B[38;5;124m\"\u001B[39m)\n\u001B[1;32m      3\u001B[0m \u001B[38;5;28mprint\u001B[39m(try_again_btns)\n",
      "\u001B[0;31mNameError\u001B[0m: name 'wait_and_find_ele_by_class' is not defined"
     ]
    }
   ],
   "source": [
    "try_again_btns = wait_and_find_ele_by_class(class_id=\"//*[@class='ts-btn ts-btn-fluent ts-btn-fluent-primary oops-button']\")\n",
    "\n",
    "print(try_again_btns)\n"
   ],
   "metadata": {
    "collapsed": false,
    "ExecuteTime": {
     "end_time": "2023-12-17T00:21:17.075196Z",
     "start_time": "2023-12-17T00:21:17.068912Z"
    }
   },
   "id": "e83a11177dded8b4"
  },
  {
   "cell_type": "code",
   "execution_count": 22,
   "outputs": [],
   "source": [],
   "metadata": {
    "collapsed": false,
    "ExecuteTime": {
     "end_time": "2023-12-17T01:10:49.659221Z",
     "start_time": "2023-12-17T01:10:49.654336Z"
    }
   },
   "id": "9f59ba9559e030e6"
  }
 ],
 "metadata": {
  "kernelspec": {
   "display_name": "Python 3",
   "language": "python",
   "name": "python3"
  },
  "language_info": {
   "codemirror_mode": {
    "name": "ipython",
    "version": 2
   },
   "file_extension": ".py",
   "mimetype": "text/x-python",
   "name": "python",
   "nbconvert_exporter": "python",
   "pygments_lexer": "ipython2",
   "version": "2.7.6"
  }
 },
 "nbformat": 4,
 "nbformat_minor": 5
}
